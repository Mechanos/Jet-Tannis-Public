{
 "cells": [
  {
   "cell_type": "markdown",
   "id": "847331df",
   "metadata": {},
   "source": [
    "# Data Science Tools and Ecosystem"
   ]
  },
  {
   "cell_type": "markdown",
   "id": "9b0f4ae1",
   "metadata": {},
   "source": [
    "In this notebook, Data Science Tools and Ecosystem are summarized"
   ]
  },
  {
   "cell_type": "markdown",
   "id": "c1f093eb",
   "metadata": {},
   "source": [
    "**Objectives:**\n",
    "-Popular Languages for Data Science\n",
    "-Commonly Used Data Science Libraries\n",
    "-Open Source Data Science Tools"
   ]
  },
  {
   "cell_type": "markdown",
   "id": "369a9dea",
   "metadata": {},
   "source": [
    "Some of the popular languages that Data Scientists use are:\n",
    "1. Python\n",
    "2. R\n",
    "3. Julia"
   ]
  },
  {
   "cell_type": "markdown",
   "id": "c7cdedf0",
   "metadata": {},
   "source": [
    "Some of the commonly used libraries used by Data Scientists include:\n",
    "1. ggplot\n",
    "2. pandas\n",
    "3. TensorFlow"
   ]
  },
  {
   "cell_type": "markdown",
   "id": "03bc79ee",
   "metadata": {},
   "source": [
    "|Data Science Tools|\n",
    "|------------|\n",
    "|R|\n",
    "|Python|\n",
    "|Git|"
   ]
  },
  {
   "cell_type": "markdown",
   "id": "6d3662f0",
   "metadata": {},
   "source": [
    "### Below are a few examples of evaluating arithmetic expressions in Python."
   ]
  },
  {
   "cell_type": "code",
   "execution_count": 1,
   "id": "2a6d13d6",
   "metadata": {},
   "outputs": [
    {
     "data": {
      "text/plain": [
       "17"
      ]
     },
     "execution_count": 1,
     "metadata": {},
     "output_type": "execute_result"
    }
   ],
   "source": [
    "(3*4)+5\n",
    "#This is a simple arithmetic expression to multiply then add integers."
   ]
  },
  {
   "cell_type": "code",
   "execution_count": 4,
   "id": "eefb4c93",
   "metadata": {},
   "outputs": [
    {
     "name": "stdout",
     "output_type": "stream",
     "text": [
      "3.3333333333333335\n"
     ]
    }
   ],
   "source": [
    "#This will convert 200 minutes into hours by diving by 60\n",
    "min=200 #minutes\n",
    "hours=min/60 #hrs\n",
    "print(hours)"
   ]
  },
  {
   "cell_type": "markdown",
   "id": "aa0650c8",
   "metadata": {},
   "source": [
    "## Author\n",
    "Jethro Tannis"
   ]
  },
  {
   "cell_type": "code",
   "execution_count": null,
   "id": "1e915666",
   "metadata": {},
   "outputs": [],
   "source": []
  }
 ],
 "metadata": {
  "kernelspec": {
   "display_name": "Python 3",
   "language": "python",
   "name": "python3"
  },
  "language_info": {
   "codemirror_mode": {
    "name": "ipython",
    "version": 3
   },
   "file_extension": ".py",
   "mimetype": "text/x-python",
   "name": "python",
   "nbconvert_exporter": "python",
   "pygments_lexer": "ipython3",
   "version": "3.8.8"
  }
 },
 "nbformat": 4,
 "nbformat_minor": 5
}
